{
 "cells": [
  {
   "cell_type": "code",
   "execution_count": 1,
   "metadata": {},
   "outputs": [],
   "source": [
    "import numpy as np\n",
    "import pandas as pd\n",
    "import datetime\n",
    "import random"
   ]
  },
  {
   "cell_type": "code",
   "execution_count": 2,
   "metadata": {},
   "outputs": [
    {
     "name": "stdout",
     "output_type": "stream",
     "text": [
      "Enter Year: 2019\n",
      "Enter Month: 5\n",
      "Enter Day: 26\n",
      "Days Between Games: 7\n",
      "Enter Number of Games: 10\n",
      "Enter Number of Teams: 4\n",
      "Start Date: 2019-05-26\n",
      "Number of Games: 10\n",
      "Add Team: IU\n",
      "Add Team: Purdue\n",
      "Add Team: ND\n",
      "Add Team: Butler\n"
     ]
    }
   ],
   "source": [
    "year = input(\"Enter Year: \")\n",
    "month = input(\"Enter Month: \")\n",
    "day = input(\"Enter Day: \")\n",
    "td = input(\"Days Between Games: \")\n",
    "nGames = input(\"Enter Number of Games: \")\n",
    "nTeams = input(\"Enter Number of Teams: \")\n",
    "year = int(year)\n",
    "month = int(month)\n",
    "day = int(day)\n",
    "td = int(td)\n",
    "nGames = int(nGames)\n",
    "nTeams = int(nTeams)\n",
    "sd = datetime.date(year,month,day)\n",
    "print('Start Date:',sd)\n",
    "print('Number of Games:',nGames)\n",
    "tdelta = datetime.timedelta(days=td)\n",
    "tms = []\n",
    "while len(tms)<nTeams:\n",
    "    add_team = input(\"Add Team: \")\n",
    "    tms.append(add_team)"
   ]
  },
  {
   "cell_type": "code",
   "execution_count": 3,
   "metadata": {},
   "outputs": [
    {
     "name": "stdout",
     "output_type": "stream",
     "text": [
      "[datetime.date(2019, 5, 26), datetime.date(2019, 6, 2), datetime.date(2019, 6, 9), datetime.date(2019, 6, 16), datetime.date(2019, 6, 23), datetime.date(2019, 6, 30), datetime.date(2019, 7, 7), datetime.date(2019, 7, 14), datetime.date(2019, 7, 21), datetime.date(2019, 7, 28)]\n"
     ]
    }
   ],
   "source": [
    "d = []\n",
    "while len(d)<nGames:\n",
    "    add_date = sd+tdelta*len(d)\n",
    "    d.append(add_date)\n",
    "print(d)"
   ]
  },
  {
   "cell_type": "code",
   "execution_count": 4,
   "metadata": {
    "scrolled": true
   },
   "outputs": [
    {
     "data": {
      "text/html": [
       "<div>\n",
       "<style scoped>\n",
       "    .dataframe tbody tr th:only-of-type {\n",
       "        vertical-align: middle;\n",
       "    }\n",
       "\n",
       "    .dataframe tbody tr th {\n",
       "        vertical-align: top;\n",
       "    }\n",
       "\n",
       "    .dataframe thead th {\n",
       "        text-align: right;\n",
       "    }\n",
       "</style>\n",
       "<table border=\"1\" class=\"dataframe\">\n",
       "  <thead>\n",
       "    <tr style=\"text-align: right;\">\n",
       "      <th></th>\n",
       "      <th>Date</th>\n",
       "      <th>Home</th>\n",
       "      <th>Away</th>\n",
       "    </tr>\n",
       "  </thead>\n",
       "  <tbody>\n",
       "    <tr>\n",
       "      <th>0</th>\n",
       "      <td>2019-05-26</td>\n",
       "      <td>Butler</td>\n",
       "      <td>Purdue</td>\n",
       "    </tr>\n",
       "    <tr>\n",
       "      <th>1</th>\n",
       "      <td>2019-06-02</td>\n",
       "      <td>Butler</td>\n",
       "      <td>ND</td>\n",
       "    </tr>\n",
       "    <tr>\n",
       "      <th>2</th>\n",
       "      <td>2019-06-09</td>\n",
       "      <td>Purdue</td>\n",
       "      <td>ND</td>\n",
       "    </tr>\n",
       "    <tr>\n",
       "      <th>3</th>\n",
       "      <td>2019-06-16</td>\n",
       "      <td>Purdue</td>\n",
       "      <td>Butler</td>\n",
       "    </tr>\n",
       "    <tr>\n",
       "      <th>4</th>\n",
       "      <td>2019-06-23</td>\n",
       "      <td>Butler</td>\n",
       "      <td>ND</td>\n",
       "    </tr>\n",
       "    <tr>\n",
       "      <th>5</th>\n",
       "      <td>2019-06-30</td>\n",
       "      <td>ND</td>\n",
       "      <td>ND</td>\n",
       "    </tr>\n",
       "    <tr>\n",
       "      <th>6</th>\n",
       "      <td>2019-07-07</td>\n",
       "      <td>Butler</td>\n",
       "      <td>ND</td>\n",
       "    </tr>\n",
       "    <tr>\n",
       "      <th>7</th>\n",
       "      <td>2019-07-14</td>\n",
       "      <td>Purdue</td>\n",
       "      <td>IU</td>\n",
       "    </tr>\n",
       "    <tr>\n",
       "      <th>8</th>\n",
       "      <td>2019-07-21</td>\n",
       "      <td>Butler</td>\n",
       "      <td>Purdue</td>\n",
       "    </tr>\n",
       "    <tr>\n",
       "      <th>9</th>\n",
       "      <td>2019-07-28</td>\n",
       "      <td>Butler</td>\n",
       "      <td>Purdue</td>\n",
       "    </tr>\n",
       "  </tbody>\n",
       "</table>\n",
       "</div>"
      ],
      "text/plain": [
       "         Date    Home    Away\n",
       "0  2019-05-26  Butler  Purdue\n",
       "1  2019-06-02  Butler      ND\n",
       "2  2019-06-09  Purdue      ND\n",
       "3  2019-06-16  Purdue  Butler\n",
       "4  2019-06-23  Butler      ND\n",
       "5  2019-06-30      ND      ND\n",
       "6  2019-07-07  Butler      ND\n",
       "7  2019-07-14  Purdue      IU\n",
       "8  2019-07-21  Butler  Purdue\n",
       "9  2019-07-28  Butler  Purdue"
      ]
     },
     "execution_count": 4,
     "metadata": {},
     "output_type": "execute_result"
    }
   ],
   "source": [
    "from random import shuffle\n",
    "tmsH = []\n",
    "while len(tmsH)<nGames:\n",
    "    add_tmsH = random.choice(tms)\n",
    "    tmsH.append(add_tmsH)\n",
    "tmsA = []\n",
    "while len(tmsA)<nGames:\n",
    "    add_tmsA = random.choice(tms)\n",
    "    tmsA.append(add_tmsA)\n",
    "schedule = pd.DataFrame({'Date': (d), 'Home': (tmsH), 'Away': (tmsA)})\n",
    "schedule"
   ]
  },
  {
   "cell_type": "code",
   "execution_count": null,
   "metadata": {},
   "outputs": [],
   "source": [
    "schedule.to_csv('schedule_example.csv')"
   ]
  }
 ],
 "metadata": {
  "kernelspec": {
   "display_name": "Python 3",
   "language": "python",
   "name": "python3"
  },
  "language_info": {
   "codemirror_mode": {
    "name": "ipython",
    "version": 3
   },
   "file_extension": ".py",
   "mimetype": "text/x-python",
   "name": "python",
   "nbconvert_exporter": "python",
   "pygments_lexer": "ipython3",
   "version": "3.7.2"
  }
 },
 "nbformat": 4,
 "nbformat_minor": 2
}
